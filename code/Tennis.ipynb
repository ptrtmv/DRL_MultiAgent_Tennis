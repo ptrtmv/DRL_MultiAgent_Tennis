{
 "cells": [
  {
   "cell_type": "markdown",
   "metadata": {},
   "source": [
    "# Arm Reacher with Continuous Control\n",
    "\n",
    "---\n",
    "\n",
    "teach two DRL agents to play tennis in the [Unity Tennis environment](https://github.com/Unity-Technologies/ml-agents/blob/master/docs/Learning-Environment-Examples.md#tennis). \n",
    "\n",
    "---\n",
    "\n",
    "You can download the environment matching your operation system from one of the following links:\n",
    "* Linux: [click here](https://s3-us-west-1.amazonaws.com/udacity-drlnd/P3/Tennis/Tennis_Linux.zip)\n",
    "* Mac OSX: [click here](https://s3-us-west-1.amazonaws.com/udacity-drlnd/P3/Tennis/Tennis.app.zip)\n",
    "* Windows (32-bit): [click here](https://s3-us-west-1.amazonaws.com/udacity-drlnd/P3/Tennis/Tennis_Windows_x86.zip)\n",
    "* Windows (64-bit): [click here](https://s3-us-west-1.amazonaws.com/udacity-drlnd/P3/Tennis/Tennis_Windows_x86_64.zip)\n",
    "\n",
    "\n",
    "\n",
    "\n",
    "## 1. Start the Environment\n",
    "\n",
    "If necessary install following packages: **matplotlib**, **numpy**, **torch**, **unityagents**."
   ]
  },
  {
   "cell_type": "markdown",
   "metadata": {},
   "source": [
    "\n",
    "If needed uncoment the following cell and install **matplotlib**"
   ]
  },
  {
   "cell_type": "code",
   "execution_count": 1,
   "metadata": {},
   "outputs": [],
   "source": [
    "import sys\n",
    "\n",
    "\n",
    "# !{sys.executable} -m pip install matplotlib"
   ]
  },
  {
   "cell_type": "markdown",
   "metadata": {},
   "source": [
    "If needed uncoment the following cell and install numpy"
   ]
  },
  {
   "cell_type": "code",
   "execution_count": 2,
   "metadata": {},
   "outputs": [],
   "source": [
    "# !{sys.executable} -m pip install numpy"
   ]
  },
  {
   "cell_type": "markdown",
   "metadata": {},
   "source": [
    "If needed uncoment the following cell and install torch. We will build the deep Q-Networks using torch."
   ]
  },
  {
   "cell_type": "code",
   "execution_count": 3,
   "metadata": {},
   "outputs": [],
   "source": [
    "#!{sys.executable} -m pip install torch"
   ]
  },
  {
   "cell_type": "markdown",
   "metadata": {},
   "source": [
    "If needed uncoment the following cell and install unityagents. This package is needed to run the downloaded Unity Environment."
   ]
  },
  {
   "cell_type": "code",
   "execution_count": 4,
   "metadata": {},
   "outputs": [],
   "source": [
    "#!{sys.executable} -m pip install unityagents"
   ]
  },
  {
   "cell_type": "markdown",
   "metadata": {},
   "source": [
    "Import the packages."
   ]
  },
  {
   "cell_type": "code",
   "execution_count": 5,
   "metadata": {},
   "outputs": [],
   "source": [
    "import random\n",
    "import torch\n",
    "import numpy as np\n",
    "from collections import deque\n",
    "import matplotlib.pyplot as plt\n",
    "\n",
    "from unityagents import UnityEnvironment\n",
    "\n",
    "from agent import Agent, Brain\n",
    "\n",
    "seed = 123"
   ]
  },
  {
   "cell_type": "markdown",
   "metadata": {},
   "source": [
    "Next, we will start the environment!\n",
    "\n",
    "Before running the code cell below, change the `unityEnvPath` parameter to match the location of the Unity environment that you downloaded.\n",
    "\n",
    "- **Mac**: `\"path/to/Tennis.app\"`\n",
    "- **Windows** (x86): `\"path/to/Tennis_Windows_x86/Tennis.exe\"`\n",
    "- **Windows** (x86_64): `\"path/to/Tennis_Windows_x86_64/Tennis.exe\"`\n",
    "- **Linux** (x86): `\"path/to/Tennis_Linux/Tennis.x86\"`\n",
    "- **Linux** (x86_64): `\"path/to/Tennis_Linux/Tennis.x86_64\"`\n",
    "- **Linux** (x86, headless): `\"path/to/Tennis_Linux_NoVis/Tennis.x86\"`\n",
    "- **Linux** (x86_64, headless): `\"path/to/Tennis_Linux_NoVis/Tennis.x86_64\"`\n",
    "\n"
   ]
  },
  {
   "cell_type": "code",
   "execution_count": 6,
   "metadata": {},
   "outputs": [
    {
     "name": "stderr",
     "output_type": "stream",
     "text": [
      "INFO:unityagents:\n",
      "'Academy' started successfully!\n",
      "Unity Academy name: Academy\n",
      "        Number of Brains: 1\n",
      "        Number of External Brains : 1\n",
      "        Lesson number : 0\n",
      "        Reset Parameters :\n",
      "\t\t\n",
      "Unity brain name: TennisBrain\n",
      "        Number of Visual Observations (per agent): 0\n",
      "        Vector Observation space type: continuous\n",
      "        Vector Observation space size (per agent): 8\n",
      "        Number of stacked Vector Observation: 3\n",
      "        Vector Action space type: continuous\n",
      "        Vector Action space size (per agent): 2\n",
      "        Vector Action descriptions: , \n"
     ]
    }
   ],
   "source": [
    "unityEnvPath = 'path/to/Tennis/Executable/...'\n",
    "\n",
    "env = UnityEnvironment(file_name=unityEnvPath,no_graphics=True,seed=seed)"
   ]
  },
  {
   "cell_type": "code",
   "execution_count": 7,
   "metadata": {},
   "outputs": [],
   "source": [
    "# get the default brain\n",
    "brain_name = env.brain_names[0]\n",
    "brain = env.brains[brain_name]\n"
   ]
  },
  {
   "cell_type": "markdown",
   "metadata": {},
   "source": [
    "## 2. Examine the State and Action Spaces\n",
    "\n",
    "Before starting with the training let's examine the environment.\n",
    "\n",
    "The **state space** is `24` dimensional. There are `8` parameters corresponding to `position and velocity`  of the ball and racket whereby each agent receives its own, local observation.    \n",
    "The **actions** are `2` corresponding to the movement of the racket `up-down` and `right-left`.  Every entry in the action vector must be a number between `-1` and `1`.\n",
    "\n",
    "A **reward** of `+0.1` is provided if an agent hits the ball over the net. If an agent lets a ball hit the ground or hits the ball out of bounds, it receives a **negative reward** of `-0.01`. \n",
    "\n",
    "\n",
    "The **environment is considered solved**, when an average score of +0.5  (over 100 episodes) is reached."
   ]
  },
  {
   "cell_type": "code",
   "execution_count": 8,
   "metadata": {},
   "outputs": [
    {
     "name": "stdout",
     "output_type": "stream",
     "text": [
      "Number of agents: 2\n",
      "Number of actions: 2\n",
      "States have length: 24\n",
      "States look like:\n",
      " [ 0.          0.          0.          0.          0.          0.\n",
      "  0.          0.          0.          0.          0.          0.\n",
      "  0.          0.          0.          0.         -6.51024199 -1.5\n",
      " -0.          0.          6.80061245  6.         -0.          0.        ]\n"
     ]
    }
   ],
   "source": [
    "# reset the environment\n",
    "env_info = env.reset(train_mode=True)[brain_name]\n",
    "\n",
    "# number of agents in the environment\n",
    "nrAgents = len(env_info.agents)\n",
    "print('Number of agents:', nrAgents)\n",
    "\n",
    "# number of actions\n",
    "actionSize = brain.vector_action_space_size\n",
    "print('Number of actions:', actionSize)\n",
    "\n",
    "# examine the state space \n",
    "state = env_info.vector_observations[0]\n",
    "stateSize = len(state)\n",
    "print('States have length:', stateSize)\n",
    "print('States look like:\\n', state)\n"
   ]
  },
  {
   "cell_type": "markdown",
   "metadata": {},
   "source": [
    "## 3. Train your agents\n",
    "\n",
    "The goal of each agent is to keep the ball in play. \n",
    "\n",
    "This is a **cooperative game**. The reward of a given agent depends also on the skill of the other agent and the rewards of both agents grow the longer the ball is in play. \n",
    "\n",
    "To solve the environment we use the method of **Multi Agent Deep Deterministic Policy Gradients (MADDPG)**. The algorithm is implemented in the `Brain` class.  \n",
    "\n"
   ]
  },
  {
   "cell_type": "markdown",
   "metadata": {},
   "source": [
    "Now we can define the training function: "
   ]
  },
  {
   "cell_type": "code",
   "execution_count": 9,
   "metadata": {},
   "outputs": [],
   "source": [
    "\n",
    "def trainAgents(env,agents,n_episodes=10000, max_t=1000, print_every=100, learn=True):\n",
    "   \n",
    "    solutionAverage = -np.Inf\n",
    "\n",
    "    last100Scores = deque(maxlen=100)\n",
    "    allScores = []                                         \n",
    "    allAvgScores = []\n",
    "    \n",
    "    maxScore = -np.Inf\n",
    "    totalMax = -np.Inf\n",
    "    \n",
    "    \n",
    "    nrAgents = len(agents)\n",
    "    actions = np.zeros((nrAgents,agents[0].brain.actionSize))\n",
    "    \n",
    "    \n",
    "    for i_episode in range(1, n_episodes+1):\n",
    "       \n",
    "       \n",
    "        # Per episode we have to reset the environment.\n",
    "        env_info = env.reset(train_mode=learn)[brain_name]\n",
    "        # Get the initial state.\n",
    "        states = env_info.vector_observations        \n",
    "        \n",
    "        # reset each agent (important for time dependent noise classes)\n",
    "        for agentNr in range(nrAgents):\n",
    "            agents[agentNr].reset() \n",
    "            \n",
    "        score = 0\n",
    "        for t in range(max_t):\n",
    "            \n",
    "            # get the actions for each of the agents\n",
    "            actions = np.zeros((nrAgents,actionSize))\n",
    "            for agentNr in range(nrAgents):\n",
    "                actions[agentNr] = agents[agentNr].act(states[agentNr])\n",
    "           \n",
    "            env_info = env.step(actions)[brain_name]\n",
    "            # Obtain the next state.\n",
    "            next_states = env_info.vector_observations\n",
    "            # Get the reward.\n",
    "            rewards = env_info.rewards\n",
    "            # Get the done status.\n",
    "            dones = env_info.local_done\n",
    "           \n",
    "            # performe a step for each of the agents\n",
    "            for agentNr in range(nrAgents):\n",
    "                agents[agentNr].step(states[agentNr], actions[agentNr], rewards[agentNr], next_states[agentNr], dones[agentNr])\n",
    "            \n",
    "            \n",
    "            states = next_states\n",
    "            score += np.max(rewards)                            # sets scores to cumulative rewards\n",
    "\n",
    "            if np.any(dones):                                   # if done, break\n",
    "                break\n",
    "\n",
    "        last100Scores.append(np.max(score))\n",
    "        avgScore = np.mean(last100Scores)\n",
    "        \n",
    "        allScores.append(np.max(score))\n",
    "        allAvgScores.append(avgScore)\n",
    "\n",
    "        maxScore = max(maxScore,score)  \n",
    "        totalMax = max(maxScore,totalMax)  \n",
    "\n",
    "        print('\\rEpisode {}\\tMean: {:.2f}\\tscore: {:.2f}'\n",
    "                  .format(i_episode, avgScore, np.max(score)), end=\"\")\n",
    "        \n",
    "        if i_episode % print_every == 0:                        # check to print via modulus\n",
    "            \n",
    "            auxMean = 'mean: {:.3f}'.format(avgScore)\n",
    "            auxLastMax = 'last max: {:.3f}'.format(maxScore)\n",
    "            auxTotalMax = 'total max: {:.3f}'.format(totalMax)\n",
    "            print('\\n\\n---> ','\\t',auxMean,'\\t',auxLastMax,'\\t',auxTotalMax,'\\n')\n",
    "            maxScore = -100\n",
    "\n",
    "        if avgScore >= 0.5:           # print and break when average score above defined\n",
    "            \n",
    "            if solutionAverage == -np.Inf:\n",
    "                print('\\n\\n\\n================================================================================')\n",
    "                print(\"\\r\\rEnviroment solved after {i_episode} episodes with an avg_score of {avg:.2f}\\r\"                      \n",
    "                      .format(i_episode=i_episode, avg=avgScore),end='\\n')\n",
    "                print('================================================================================\\n\\n\\n')\n",
    "                print('\\n\\n... continue learning for 100 more episodes ...\\n\\n')\n",
    "                solved_plus100 = i_episode + 100\n",
    "                \n",
    "\n",
    "            if solutionAverage < avgScore:\n",
    "                solutionAverage = avgScore\n",
    "                # save models\n",
    "                torch.save(agents[0].brain.actorLocal.state_dict(), 'checkpoint_actor.pth')\n",
    "                torch.save(agents[0].brain.criticLocal.state_dict(), 'checkpoint_critic.pth')\n",
    "                \n",
    "\n",
    "            if i_episode > solved_plus100:\n",
    "                break\n",
    "\n",
    "    return allScores, allAvgScores"
   ]
  },
  {
   "cell_type": "code",
   "execution_count": 10,
   "metadata": {},
   "outputs": [],
   "source": [
    "def plotScores(scores,title='',meanOver = 100, threshold = 0.5):\n",
    "    \"\"\"\n",
    "    Plot the scores\n",
    "    \"\"\"\n",
    "    \n",
    "    if len(scores)<meanOver:\n",
    "        meanOver = len(scores)\n",
    "    \n",
    "    scores = np.array(scores)\n",
    "    yLimMin = min(scores) * 1.05 - 1.e-2\n",
    "    yLimMax = max(scores) * 1.05\n",
    "    \n",
    "    runMean = np.convolve(scores, np.ones((meanOver,))/meanOver,mode='valid')[1:]\n",
    "\n",
    "    mean13 = np.argwhere(runMean>threshold) + meanOver + 1\n",
    "    score13 = np.argwhere(scores>threshold)\n",
    "        \n",
    "    fig = plt.figure()\n",
    "    ax = fig.add_subplot(111)\n",
    "    plt.plot(np.arange(len(scores)), scores)\n",
    "    plt.plot(np.arange(meanOver,len(scores)), runMean,color = 'r')\n",
    "    \n",
    "    plt.plot([0, len(scores)],[threshold,threshold],'g')\n",
    "    plt.plot([mean13[0],mean13[0]],[-5,yLimMax],'g')\n",
    "    plt.text(mean13[0],-(yLimMax-yLimMin)*1.e-1 ,str(mean13[0]),color = 'g')\n",
    "    \n",
    "    #plt.scatter(score13,scores[score13],color='r')\n",
    "    \n",
    "    plt.title(title)\n",
    "    plt.ylabel('Score')\n",
    "    plt.xlabel('Episode #')\n",
    "    plt.xlim([0,len(scores)])\n",
    "    plt.ylim([yLimMin,yLimMax])\n",
    "    return plt\n"
   ]
  },
  {
   "cell_type": "markdown",
   "metadata": {},
   "source": [
    "\n",
    "\n",
    "\n",
    "To run the training method we need two agents, playing simultaniously. For the MADDPG method both agents have to share the same actor, respectively critic, networks and the same experience memory. In our cas this means that both agents have to share the same `Brain` instance.\n",
    "\n",
    "Remark that we are not using the soft update of the target network but a hard update. i.e. the target network is completely overridden after a given number of update steps.\n",
    "\n",
    "\n",
    "### Using Replay-Buffer without Prioritizing Experience\n",
    "\n",
    "We first create an instance of the `Brain` class **without using prioritized memory**. \n",
    "\n"
   ]
  },
  {
   "cell_type": "code",
   "execution_count": 11,
   "metadata": {},
   "outputs": [],
   "source": [
    "brain = Brain( stateSize=stateSize, actionSize=actionSize,\n",
    "            \n",
    "            actorHiddenLayers=[256,64,32], \n",
    "            actorBatchNormAfterLayers=None,#[0,1,2],\n",
    "            \n",
    "            criticHiddenLayers=[256,128,16], \n",
    "            criticBatchNormAfterLayers=None,#[0,1,2],\n",
    "            criticAttachActionToLayer = 1,\n",
    "            \n",
    "            gamma = 0.99,\n",
    "            actorLearningRate = 5e-4,   \n",
    "            criticLearningRate = 5e-4,   \n",
    "            \n",
    "            actorSoftHardUpdatePace = 10,  \n",
    "            criticSoftHardUpdatePace = 10,  \n",
    "            \n",
    "            dnnUpdatePace = 2, \n",
    "            bufferSize = int(1e6),\n",
    "            batchSize = 128,\n",
    "            batchEpochs = 2,\n",
    "            weightDecay = 0.0,\n",
    "            \n",
    "            usePrioritizedMemory = False,   # <--------------------------\n",
    "            \n",
    "            seed = seed)\n",
    " \n",
    "# create an instance of the Agent class for each player, whereby they all share the same brain\n",
    "agents = []\n",
    "for agentNr in range(nrAgents):\n",
    "    agents.append(Agent(brain, seed = seed, noiseScale = 0.2))\n"
   ]
  },
  {
   "cell_type": "markdown",
   "metadata": {},
   "source": [
    "Check the network architecture"
   ]
  },
  {
   "cell_type": "code",
   "execution_count": 12,
   "metadata": {},
   "outputs": [
    {
     "name": "stdout",
     "output_type": "stream",
     "text": [
      "-----------ACTOR NETWORK-----------\n",
      "Actor(\n",
      "  (network): ModuleList(\n",
      "    (0): Linear(in_features=24, out_features=256, bias=True)\n",
      "    (1): Linear(in_features=256, out_features=64, bias=True)\n",
      "    (2): Linear(in_features=64, out_features=32, bias=True)\n",
      "  )\n",
      "  (outLayer): Linear(in_features=32, out_features=2, bias=True)\n",
      ")\n",
      "\n",
      "\n",
      "-----------CRITIC NETWORK-----------\n",
      "Critic(\n",
      "  (network): ModuleList(\n",
      "    (0): Linear(in_features=24, out_features=256, bias=True)\n",
      "    (1): Linear(in_features=258, out_features=128, bias=True)\n",
      "    (2): Linear(in_features=128, out_features=16, bias=True)\n",
      "  )\n",
      "  (outLayer): Linear(in_features=16, out_features=1, bias=True)\n",
      ")\n"
     ]
    }
   ],
   "source": [
    "print('-----------ACTOR NETWORK-----------')\n",
    "print(agents[0].brain.actorLocal)\n",
    "print('\\n')\n",
    "print('-----------CRITIC NETWORK-----------')\n",
    "print(agents[0].brain.criticLocal)"
   ]
  },
  {
   "cell_type": "code",
   "execution_count": 13,
   "metadata": {},
   "outputs": [
    {
     "name": "stdout",
     "output_type": "stream",
     "text": [
      "Episode 100\tMean: 0.00\tscore: 0.00\n",
      "\n",
      "--->  \t mean: 0.001 \t last max: 0.100 \t total max: 0.100 \n",
      "\n",
      "Episode 200\tMean: 0.00\tscore: 0.00\n",
      "\n",
      "--->  \t mean: 0.000 \t last max: 0.000 \t total max: 0.100 \n",
      "\n",
      "Episode 300\tMean: 0.06\tscore: 0.10\n",
      "\n",
      "--->  \t mean: 0.058 \t last max: 0.600 \t total max: 0.600 \n",
      "\n",
      "Episode 400\tMean: 0.27\tscore: 0.90\n",
      "\n",
      "--->  \t mean: 0.269 \t last max: 2.400 \t total max: 2.400 \n",
      "\n",
      "Episode 452\tMean: 0.50\tscore: 0.50\n",
      "\n",
      "\n",
      "================================================================================\n",
      "Enviroment solved after 452 episodes with an avg_score of 0.50\n",
      "================================================================================\n",
      "\n",
      "\n",
      "\n",
      "\n",
      "\n",
      "... continue learning for 100 more episodes ...\n",
      "\n",
      "\n",
      "Episode 500\tMean: 0.77\tscore: 0.40\n",
      "\n",
      "--->  \t mean: 0.773 \t last max: 5.100 \t total max: 5.100 \n",
      "\n",
      "Episode 553\tMean: 0.90\tscore: 1.60"
     ]
    }
   ],
   "source": [
    "scores, _ = trainAgents(env,agents)"
   ]
  },
  {
   "cell_type": "code",
   "execution_count": 14,
   "metadata": {},
   "outputs": [
    {
     "data": {
      "text/plain": [
       "<module 'matplotlib.pyplot' from '/home/ptrtmv/.local/lib/python3.6/site-packages/matplotlib/pyplot.py'>"
      ]
     },
     "execution_count": 14,
     "metadata": {},
     "output_type": "execute_result"
    },
    {
     "data": {
      "image/png": "[encoded data removed]",
      "text/plain": [
       "<Figure size 432x288 with 1 Axes>"
      ]
     },
     "metadata": {
      "needs_background": "light"
     },
     "output_type": "display_data"
    }
   ],
   "source": [
    "plotScores(scores,title='Replay-Buffer without Prioritized Experience')"
   ]
  },
  {
   "cell_type": "markdown",
   "metadata": {},
   "source": [
    "### Using Prioritized Experience Replay\n",
    "\n",
    "Now we can create an instance of the `Brain` class **using prioritized memory**. \n",
    "\n",
    "The idea behind prioritized experince is that we prefer transitions that do not fit well to our current estimate of the Q function, because these are the transitions that we can learn most from. \n"
   ]
  },
  {
   "cell_type": "code",
   "execution_count": 15,
   "metadata": {},
   "outputs": [],
   "source": [
    "brain = Brain( stateSize=stateSize, actionSize=actionSize,\n",
    "            \n",
    "            actorHiddenLayers=[256,64,32], \n",
    "            actorBatchNormAfterLayers=None,#[0,1,2],\n",
    "            \n",
    "            criticHiddenLayers=[256,128,16], \n",
    "            criticBatchNormAfterLayers=None,#[0,1,2],\n",
    "            criticAttachActionToLayer = 1,\n",
    "            \n",
    "            gamma = 0.99,\n",
    "            actorLearningRate = 5e-4,   \n",
    "            criticLearningRate = 5e-4,   \n",
    "            \n",
    "            actorSoftHardUpdatePace = 10,  \n",
    "            criticSoftHardUpdatePace = 10,  \n",
    "            \n",
    "            dnnUpdatePace = 2, \n",
    "            bufferSize = int(1e6),\n",
    "            batchSize = 128,\n",
    "            batchEpochs = 2,\n",
    "            weightDecay = 0.0,\n",
    "            \n",
    "            usePrioritizedMemory = True,   # <--------------------------\n",
    "            \n",
    "            seed = seed)\n",
    " \n",
    "# create an instance of the Agent class for each player, whereby they all share the same brain\n",
    "agents = []\n",
    "for agentNr in range(nrAgents):\n",
    "    agents.append(Agent(brain, seed = seed, noiseScale = 0.2))\n"
   ]
  },
  {
   "cell_type": "markdown",
   "metadata": {},
   "source": [
    "We use the same network architecture as above with the same parameters."
   ]
  },
  {
   "cell_type": "code",
   "execution_count": 16,
   "metadata": {},
   "outputs": [
    {
     "name": "stdout",
     "output_type": "stream",
     "text": [
      "-----------ACTOR NETWORK-----------\n",
      "Actor(\n",
      "  (network): ModuleList(\n",
      "    (0): Linear(in_features=24, out_features=256, bias=True)\n",
      "    (1): Linear(in_features=256, out_features=64, bias=True)\n",
      "    (2): Linear(in_features=64, out_features=32, bias=True)\n",
      "  )\n",
      "  (outLayer): Linear(in_features=32, out_features=2, bias=True)\n",
      ")\n",
      "\n",
      "\n",
      "-----------CRITIC NETWORK-----------\n",
      "Critic(\n",
      "  (network): ModuleList(\n",
      "    (0): Linear(in_features=24, out_features=256, bias=True)\n",
      "    (1): Linear(in_features=258, out_features=128, bias=True)\n",
      "    (2): Linear(in_features=128, out_features=16, bias=True)\n",
      "  )\n",
      "  (outLayer): Linear(in_features=16, out_features=1, bias=True)\n",
      ")\n"
     ]
    }
   ],
   "source": [
    "print('-----------ACTOR NETWORK-----------')\n",
    "print(agents[0].brain.actorLocal)\n",
    "print('\\n')\n",
    "print('-----------CRITIC NETWORK-----------')\n",
    "print(agents[0].brain.criticLocal)"
   ]
  },
  {
   "cell_type": "markdown",
   "metadata": {},
   "source": [
    "Start the trainig"
   ]
  },
  {
   "cell_type": "code",
   "execution_count": 17,
   "metadata": {},
   "outputs": [
    {
     "name": "stdout",
     "output_type": "stream",
     "text": [
      "Episode 100\tMean: 0.03\tscore: 0.10\n",
      "\n",
      "--->  \t mean: 0.031 \t last max: 0.500 \t total max: 0.500 \n",
      "\n",
      "Episode 200\tMean: 0.43\tscore: 0.00\n",
      "\n",
      "--->  \t mean: 0.428 \t last max: 2.100 \t total max: 2.100 \n",
      "\n",
      "Episode 212\tMean: 0.50\tscore: 1.90\n",
      "\n",
      "\n",
      "================================================================================\n",
      "Enviroment solved after 212 episodes with an avg_score of 0.50\n",
      "================================================================================\n",
      "\n",
      "\n",
      "\n",
      "\n",
      "\n",
      "... continue learning for 100 more episodes ...\n",
      "\n",
      "\n",
      "Episode 300\tMean: 0.99\tscore: 0.00\n",
      "\n",
      "--->  \t mean: 0.988 \t last max: 5.200 \t total max: 5.200 \n",
      "\n",
      "Episode 313\tMean: 0.97\tscore: 1.70"
     ]
    }
   ],
   "source": [
    "scoresPrioritized, _ = trainAgents(env,agents)"
   ]
  },
  {
   "cell_type": "code",
   "execution_count": 18,
   "metadata": {},
   "outputs": [
    {
     "data": {
      "text/plain": [
       "<module 'matplotlib.pyplot' from '/home/ptrtmv/.local/lib/python3.6/site-packages/matplotlib/pyplot.py'>"
      ]
     },
     "execution_count": 18,
     "metadata": {},
     "output_type": "execute_result"
    },
    {
     "data": {
      "image/png": "[encoded data removed]",
      "text/plain": [
       "<Figure size 432x288 with 1 Axes>"
      ]
     },
     "metadata": {
      "needs_background": "light"
     },
     "output_type": "display_data"
    }
   ],
   "source": [
    "plotScores(scoresPrioritized,title='Prioritizing Experience Replay')"
   ]
  },
  {
   "cell_type": "markdown",
   "metadata": {},
   "source": [
    "Let us compare the plots of the trainings with and without prioritized learning"
   ]
  },
  {
   "cell_type": "code",
   "execution_count": 19,
   "metadata": {},
   "outputs": [
    {
     "data": {
      "text/plain": [
       "<module 'matplotlib.pyplot' from '/home/ptrtmv/.local/lib/python3.6/site-packages/matplotlib/pyplot.py'>"
      ]
     },
     "execution_count": 19,
     "metadata": {},
     "output_type": "execute_result"
    },
    {
     "data": {
      "image/png": "[encoded data removed]",
      "text/plain": [
       "<Figure size 432x288 with 1 Axes>"
      ]
     },
     "metadata": {
      "needs_background": "light"
     },
     "output_type": "display_data"
    },
    {
     "data": {
      "image/png": "[encoded data removed]",
      "text/plain": [
       "<Figure size 432x288 with 1 Axes>"
      ]
     },
     "metadata": {
      "needs_background": "light"
     },
     "output_type": "display_data"
    }
   ],
   "source": [
    "plotScores(scoresPrioritized,title='Prioritizing Experience Replay')\n",
    "plotScores(scores,title='Replay-Buffer without Prioritized Experience')"
   ]
  },
  {
   "cell_type": "markdown",
   "metadata": {},
   "source": [
    "At this poin we should say that, in general, both methods converge and are able to find a solution. However both methods strongly depend on the initial conditions (i.e. choice of the seed for instance) and the number of episodes for solving the environment varies strongly. \n",
    "\n",
    "Our observation is that **more often than not the MADDPG with prioritized learning performs better**. "
   ]
  },
  {
   "cell_type": "markdown",
   "metadata": {},
   "source": [
    "### 5. Watch a Smart Agent!\n",
    "\n",
    "Now we can load the trained weights from the files and watch the performance of the trained agent."
   ]
  },
  {
   "cell_type": "code",
   "execution_count": 20,
   "metadata": {},
   "outputs": [
    {
     "name": "stdout",
     "output_type": "stream",
     "text": [
      "Score: 0.50\n"
     ]
    }
   ],
   "source": [
    "brain.actorLocal.load_state_dict(torch.load('checkpoint_actor.pth'))\n",
    "brain.criticLocal.load_state_dict(torch.load('checkpoint_critic.pth'))\n",
    "\n",
    "env_info = env.reset(train_mode=False)[brain_name]   # reset the environment\n",
    "states = env_info.vector_observations                # get the current state(s)\n",
    "scores = np.zeros(nrAgents)                        # initialize the score(s)\n",
    "\n",
    "\n",
    "\n",
    "while True:\n",
    "   \n",
    "    # get the actions for each of the agents\n",
    "    actions = np.zeros((nrAgents,actionSize))\n",
    "    for agentNr in range(nrAgents):\n",
    "        actions[agentNr] = agents[agentNr].act(states[agentNr])\n",
    "           \n",
    "    env_info = env.step(actions)[brain_name]\n",
    "    # Obtain the next state.\n",
    "    next_states = env_info.vector_observations\n",
    "    # Get the reward.\n",
    "    rewards = env_info.rewards\n",
    "    # Get the done status.\n",
    "    dones = env_info.local_done\n",
    "\n",
    "    scores += rewards                                # update the score(s)\n",
    "    states = next_states                             # roll over the state to next time step\n",
    "    if np.any(dones):                                # exit loop if episode is finished\n",
    "        break\n",
    "\n",
    "print(\"Score: {:.2f}\".format(max(scores)))                 "
   ]
  },
  {
   "cell_type": "markdown",
   "metadata": {},
   "source": [
    "Close the environment"
   ]
  },
  {
   "cell_type": "code",
   "execution_count": 21,
   "metadata": {},
   "outputs": [],
   "source": [
    "env.close()"
   ]
  },
  {
   "cell_type": "code",
   "execution_count": null,
   "metadata": {},
   "outputs": [],
   "source": []
  }
 ],
 "metadata": {
  "kernelspec": {
   "display_name": "drlnd",
   "language": "python",
   "name": "drlnd"
  },
  "language_info": {
   "codemirror_mode": {
    "name": "ipython",
    "version": 3
   },
   "file_extension": ".py",
   "mimetype": "text/x-python",
   "name": "python",
   "nbconvert_exporter": "python",
   "pygments_lexer": "ipython3",
   "version": "3.6.8"
  }
 },
 "nbformat": 4,
 "nbformat_minor": 2
}
